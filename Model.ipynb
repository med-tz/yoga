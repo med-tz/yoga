{
  "nbformat": 4,
  "nbformat_minor": 0,
  "metadata": {
    "colab": {
      "name": "Model.ipynb",
      "provenance": [],
      "authorship_tag": "ABX9TyO9JfoB3KkaFtGFf2lsWM+d",
      "include_colab_link": true
    },
    "kernelspec": {
      "name": "python3",
      "display_name": "Python 3"
    },
    "language_info": {
      "name": "python"
    }
  },
  "cells": [
    {
      "cell_type": "markdown",
      "metadata": {
        "id": "view-in-github",
        "colab_type": "text"
      },
      "source": [
        "<a href=\"https://colab.research.google.com/github/med-tz/yoga/blob/main/Model.ipynb\" target=\"_parent\"><img src=\"https://colab.research.google.com/assets/colab-badge.svg\" alt=\"Open In Colab\"/></a>"
      ]
    },
    {
      "cell_type": "code",
      "metadata": {
        "colab": {
          "base_uri": "https://localhost:8080/"
        },
        "id": "7pGqZY6cYDBK",
        "outputId": "23069d43-759e-4729-e3f3-066487f0af2c"
      },
      "source": [
        "%matplotlib inline\n",
        "import matplotlib.pyplot as plt\n",
        "import keras\n",
        "from keras.models import Sequential\n",
        "from keras.layers import Dense, Dropout, Flatten, BatchNormalization\n",
        "from keras.layers.pooling import GlobalAveragePooling1D\n",
        "from keras.layers import Conv1D, MaxPooling1D, LSTM\n",
        "from keras.layers.wrappers import TimeDistributed\n",
        "from keras.optimizers import Adam\n",
        "import numpy as np\n",
        "from sklearn.metrics import confusion_matrix\n",
        "import itertools\n",
        "from keras.callbacks import ModelCheckpoint\n",
        "from scipy import stats\n",
        "from google.colab import drive\n",
        "drive.mount('/gdrive')"
      ],
      "execution_count": 1,
      "outputs": [
        {
          "output_type": "stream",
          "text": [
            "Mounted at /gdrive\n"
          ],
          "name": "stdout"
        }
      ]
    },
    {
      "cell_type": "code",
      "metadata": {
        "id": "4EZSE6yIYDs_"
      },
      "source": [
        "XchTrain = np.load(\"/gdrive/MyDrive/sabri/trainX.npy\")\n",
        "YTrain = np.load(\"/gdrive/MyDrive/sabri/trainY.npy\")\n",
        "XchVal = np.load(\"/gdrive/MyDrive/sabri/valX.npy\")\n",
        "YVal = np.load(\"/gdrive/MyDrive/sabri/valY.npy\")\n",
        "XchTest = np.load(\"/gdrive/MyDrive/sabri/testX.npy\")\n",
        "YTest = np.load(\"/gdrive/MyDrive/sabri/testY.npy\")\n",
        "# making test and train labels one hot\n",
        "YintTrain = np.int64(YTrain)\n",
        "YhotTrain = np.zeros((YTrain.shape[0], 6))\n",
        "YhotTrain[np.arange(YTrain.shape[0]), YintTrain] = 1\n",
        "\n",
        "YintTest = np.int64(YTest)\n",
        "YhotTest = np.zeros((YTest.shape[0], 6))\n",
        "YhotTest[np.arange(YTest.shape[0]), YintTest] = 1\n",
        "\n",
        "YintVal = np.int64(YVal)\n",
        "YhotVal = np.zeros((YVal.shape[0], 6))\n",
        "YhotVal[np.arange(YVal.shape[0]), YintVal] = 1\n",
        "\n",
        "YhotTest = np.repeat(YhotTest[:, :, np.newaxis], 45, axis=2)\n",
        "YhotTest = np.swapaxes(YhotTest, 1, 2)\n",
        "\n",
        "YhotVal = np.repeat(YhotVal[:, :, np.newaxis], 45, axis=2)\n",
        "YhotVal = np.swapaxes(YhotVal, 1, 2)\n",
        "\n",
        "YhotTrain = np.repeat(YhotTrain[:, :, np.newaxis], 45, axis=2)\n",
        "YhotTrain = np.swapaxes(YhotTrain, 1, 2)"
      ],
      "execution_count": 2,
      "outputs": []
    },
    {
      "cell_type": "code",
      "metadata": {
        "id": "D43KvKTKfX8S",
        "colab": {
          "base_uri": "https://localhost:8080/"
        },
        "outputId": "d3a2a13e-eefe-4a79-80f0-d37e42414ddc"
      },
      "source": [
        "print(XchTrain.shape)\n",
        "print(YhotTrain.shape)\n",
        "print(XchVal.shape)\n",
        "print(YhotVal.shape)\n",
        "print(XchTest.shape)\n",
        "print(YhotTest.shape)"
      ],
      "execution_count": 3,
      "outputs": [
        {
          "output_type": "stream",
          "text": [
            "(7754, 45, 25, 2)\n",
            "(7754, 45, 6)\n",
            "(2529, 45, 25, 2)\n",
            "(2529, 45, 6)\n",
            "(2519, 45, 25, 2)\n",
            "(2519, 45, 6)\n"
          ],
          "name": "stdout"
        }
      ]
    },
    {
      "cell_type": "code",
      "metadata": {
        "id": "bjPKmjQ4Y37G"
      },
      "source": [
        "def get_model():\n",
        "    model = Sequential([\n",
        "        TimeDistributed(Conv1D(16,3, activation='relu', padding = \"same\"),input_shape=XchTrain.shape[1:]),\n",
        "        TimeDistributed(BatchNormalization()),\n",
        "        TimeDistributed(Dropout(0.5)),\n",
        "        BatchNormalization(),\n",
        "        TimeDistributed(Flatten()),  \n",
        "        LSTM(20,unit_forget_bias = 0.5, return_sequences = True),\n",
        "        TimeDistributed(Dense(6,activation='softmax'))        \n",
        "    ])\n",
        "    adam = Adam(lr=0.0001)\n",
        "    model.compile(loss='categorical_crossentropy',\n",
        "              optimizer= adam,\n",
        "              metrics=['accuracy'])\n",
        "    return model"
      ],
      "execution_count": 4,
      "outputs": []
    },
    {
      "cell_type": "code",
      "metadata": {
        "id": "scmq5AXEfX8X",
        "colab": {
          "base_uri": "https://localhost:8080/"
        },
        "outputId": "161d0be0-54ef-4063-e4be-5e98b70a27f7"
      },
      "source": [
        "model = get_model()\n",
        "filepath= \"/gdrive/MyDrive/sabri/\" +\"val1\" + \"-{epoch:02d}-{val_acc:.4f}.hdf5\"\n",
        "checkpoint = ModelCheckpoint(filepath, monitor='val_acc', verbose=1, save_best_only=True, mode='max')\n",
        "callbacks_list = [checkpoint]\n",
        "model_history = model.fit(XchTrain, YhotTrain, epochs=100, batch_size=32, validation_data = (XchVal, YhotVal))"
      ],
      "execution_count": 5,
      "outputs": [
        {
          "output_type": "stream",
          "text": [
            "/usr/local/lib/python3.7/dist-packages/tensorflow/python/keras/optimizer_v2/optimizer_v2.py:375: UserWarning: The `lr` argument is deprecated, use `learning_rate` instead.\n",
            "  \"The `lr` argument is deprecated, use `learning_rate` instead.\")\n"
          ],
          "name": "stderr"
        },
        {
          "output_type": "stream",
          "text": [
            "Epoch 1/100\n",
            "243/243 [==============================] - 37s 49ms/step - loss: 1.4605 - accuracy: 0.4562 - val_loss: 0.5869 - val_accuracy: 0.9037\n",
            "Epoch 2/100\n",
            "243/243 [==============================] - 11s 44ms/step - loss: 0.4945 - accuracy: 0.9356 - val_loss: 0.2616 - val_accuracy: 0.9726\n",
            "Epoch 3/100\n",
            "243/243 [==============================] - 11s 44ms/step - loss: 0.2343 - accuracy: 0.9712 - val_loss: 0.1843 - val_accuracy: 0.9763\n",
            "Epoch 4/100\n",
            "243/243 [==============================] - 11s 43ms/step - loss: 0.1622 - accuracy: 0.9770 - val_loss: 0.1373 - val_accuracy: 0.9791\n",
            "Epoch 5/100\n",
            "243/243 [==============================] - 11s 45ms/step - loss: 0.1292 - accuracy: 0.9810 - val_loss: 0.1216 - val_accuracy: 0.9799\n",
            "Epoch 6/100\n",
            "243/243 [==============================] - 11s 44ms/step - loss: 0.1049 - accuracy: 0.9838 - val_loss: 0.1048 - val_accuracy: 0.9810\n",
            "Epoch 7/100\n",
            "243/243 [==============================] - 11s 44ms/step - loss: 0.0915 - accuracy: 0.9851 - val_loss: 0.0966 - val_accuracy: 0.9817\n",
            "Epoch 8/100\n",
            "243/243 [==============================] - 11s 44ms/step - loss: 0.0854 - accuracy: 0.9845 - val_loss: 0.0961 - val_accuracy: 0.9816\n",
            "Epoch 9/100\n",
            "243/243 [==============================] - 11s 44ms/step - loss: 0.0753 - accuracy: 0.9861 - val_loss: 0.0836 - val_accuracy: 0.9826\n",
            "Epoch 10/100\n",
            "243/243 [==============================] - 11s 45ms/step - loss: 0.0657 - accuracy: 0.9882 - val_loss: 0.0885 - val_accuracy: 0.9813\n",
            "Epoch 11/100\n",
            "243/243 [==============================] - 11s 44ms/step - loss: 0.0597 - accuracy: 0.9889 - val_loss: 0.0791 - val_accuracy: 0.9829\n",
            "Epoch 12/100\n",
            "243/243 [==============================] - 11s 44ms/step - loss: 0.0545 - accuracy: 0.9888 - val_loss: 0.0715 - val_accuracy: 0.9830\n",
            "Epoch 13/100\n",
            "243/243 [==============================] - 11s 46ms/step - loss: 0.0484 - accuracy: 0.9899 - val_loss: 0.0920 - val_accuracy: 0.9759\n",
            "Epoch 14/100\n",
            "243/243 [==============================] - 11s 45ms/step - loss: 0.0469 - accuracy: 0.9900 - val_loss: 0.0674 - val_accuracy: 0.9830\n",
            "Epoch 15/100\n",
            "243/243 [==============================] - 11s 44ms/step - loss: 0.0430 - accuracy: 0.9903 - val_loss: 0.0693 - val_accuracy: 0.9832\n",
            "Epoch 16/100\n",
            "243/243 [==============================] - 11s 45ms/step - loss: 0.0411 - accuracy: 0.9897 - val_loss: 0.0592 - val_accuracy: 0.9837\n",
            "Epoch 17/100\n",
            "243/243 [==============================] - 11s 45ms/step - loss: 0.0389 - accuracy: 0.9915 - val_loss: 0.0675 - val_accuracy: 0.9831\n",
            "Epoch 18/100\n",
            "243/243 [==============================] - 11s 45ms/step - loss: 0.0362 - accuracy: 0.9917 - val_loss: 0.0688 - val_accuracy: 0.9826\n",
            "Epoch 19/100\n",
            "243/243 [==============================] - 11s 45ms/step - loss: 0.0323 - accuracy: 0.9930 - val_loss: 0.0622 - val_accuracy: 0.9838\n",
            "Epoch 20/100\n",
            "243/243 [==============================] - 11s 45ms/step - loss: 0.0308 - accuracy: 0.9932 - val_loss: 0.1004 - val_accuracy: 0.9654\n",
            "Epoch 21/100\n",
            "243/243 [==============================] - 11s 46ms/step - loss: 0.0319 - accuracy: 0.9926 - val_loss: 0.0619 - val_accuracy: 0.9840\n",
            "Epoch 22/100\n",
            "243/243 [==============================] - 11s 45ms/step - loss: 0.0308 - accuracy: 0.9921 - val_loss: 0.0597 - val_accuracy: 0.9839\n",
            "Epoch 23/100\n",
            "243/243 [==============================] - 11s 45ms/step - loss: 0.0296 - accuracy: 0.9928 - val_loss: 0.0658 - val_accuracy: 0.9836\n",
            "Epoch 24/100\n",
            "243/243 [==============================] - 11s 45ms/step - loss: 0.0321 - accuracy: 0.9917 - val_loss: 0.0652 - val_accuracy: 0.9840\n",
            "Epoch 25/100\n",
            "243/243 [==============================] - 11s 45ms/step - loss: 0.0279 - accuracy: 0.9926 - val_loss: 0.0580 - val_accuracy: 0.9846\n",
            "Epoch 26/100\n",
            "243/243 [==============================] - 11s 44ms/step - loss: 0.0261 - accuracy: 0.9932 - val_loss: 0.0683 - val_accuracy: 0.9836\n",
            "Epoch 27/100\n",
            "243/243 [==============================] - 11s 44ms/step - loss: 0.0260 - accuracy: 0.9932 - val_loss: 0.0738 - val_accuracy: 0.9832\n",
            "Epoch 28/100\n",
            "243/243 [==============================] - 11s 44ms/step - loss: 0.0263 - accuracy: 0.9924 - val_loss: 0.0530 - val_accuracy: 0.9854\n",
            "Epoch 29/100\n",
            "243/243 [==============================] - 11s 44ms/step - loss: 0.0235 - accuracy: 0.9937 - val_loss: 0.0583 - val_accuracy: 0.9848\n",
            "Epoch 30/100\n",
            "243/243 [==============================] - 11s 46ms/step - loss: 0.0250 - accuracy: 0.9922 - val_loss: 0.0648 - val_accuracy: 0.9847\n",
            "Epoch 31/100\n",
            "243/243 [==============================] - 11s 45ms/step - loss: 0.0254 - accuracy: 0.9921 - val_loss: 0.0615 - val_accuracy: 0.9845\n",
            "Epoch 32/100\n",
            "243/243 [==============================] - 11s 45ms/step - loss: 0.0217 - accuracy: 0.9940 - val_loss: 0.0594 - val_accuracy: 0.9856\n",
            "Epoch 33/100\n",
            "243/243 [==============================] - 11s 44ms/step - loss: 0.0224 - accuracy: 0.9930 - val_loss: 0.0563 - val_accuracy: 0.9857\n",
            "Epoch 34/100\n",
            "243/243 [==============================] - 11s 44ms/step - loss: 0.0194 - accuracy: 0.9947 - val_loss: 0.0591 - val_accuracy: 0.9852\n",
            "Epoch 35/100\n",
            "243/243 [==============================] - 11s 45ms/step - loss: 0.0225 - accuracy: 0.9928 - val_loss: 0.0680 - val_accuracy: 0.9843\n",
            "Epoch 36/100\n",
            "243/243 [==============================] - 11s 45ms/step - loss: 0.0206 - accuracy: 0.9936 - val_loss: 0.0467 - val_accuracy: 0.9858\n",
            "Epoch 37/100\n",
            "243/243 [==============================] - 11s 45ms/step - loss: 0.0197 - accuracy: 0.9940 - val_loss: 0.0535 - val_accuracy: 0.9858\n",
            "Epoch 38/100\n",
            "243/243 [==============================] - 11s 45ms/step - loss: 0.0181 - accuracy: 0.9947 - val_loss: 0.0620 - val_accuracy: 0.9838\n",
            "Epoch 39/100\n",
            "243/243 [==============================] - 11s 45ms/step - loss: 0.0198 - accuracy: 0.9944 - val_loss: 0.0775 - val_accuracy: 0.9837\n",
            "Epoch 40/100\n",
            "243/243 [==============================] - 11s 44ms/step - loss: 0.0185 - accuracy: 0.9947 - val_loss: 0.0660 - val_accuracy: 0.9845\n",
            "Epoch 41/100\n",
            "243/243 [==============================] - 11s 45ms/step - loss: 0.0190 - accuracy: 0.9943 - val_loss: 0.0643 - val_accuracy: 0.9853\n",
            "Epoch 42/100\n",
            "243/243 [==============================] - 11s 45ms/step - loss: 0.0179 - accuracy: 0.9945 - val_loss: 0.0556 - val_accuracy: 0.9858\n",
            "Epoch 43/100\n",
            "243/243 [==============================] - 11s 45ms/step - loss: 0.0159 - accuracy: 0.9953 - val_loss: 0.0588 - val_accuracy: 0.9865\n",
            "Epoch 44/100\n",
            "243/243 [==============================] - 11s 45ms/step - loss: 0.0161 - accuracy: 0.9948 - val_loss: 0.0711 - val_accuracy: 0.9845\n",
            "Epoch 45/100\n",
            "243/243 [==============================] - 11s 45ms/step - loss: 0.0169 - accuracy: 0.9949 - val_loss: 0.0664 - val_accuracy: 0.9854\n",
            "Epoch 46/100\n",
            "243/243 [==============================] - 11s 46ms/step - loss: 0.0180 - accuracy: 0.9941 - val_loss: 0.0673 - val_accuracy: 0.9850\n",
            "Epoch 47/100\n",
            "243/243 [==============================] - 11s 45ms/step - loss: 0.0159 - accuracy: 0.9951 - val_loss: 0.0610 - val_accuracy: 0.9855\n",
            "Epoch 48/100\n",
            "243/243 [==============================] - 11s 45ms/step - loss: 0.0172 - accuracy: 0.9946 - val_loss: 0.0625 - val_accuracy: 0.9841\n",
            "Epoch 49/100\n",
            "243/243 [==============================] - 11s 45ms/step - loss: 0.0175 - accuracy: 0.9939 - val_loss: 0.0624 - val_accuracy: 0.9849\n",
            "Epoch 50/100\n",
            "243/243 [==============================] - 11s 45ms/step - loss: 0.0144 - accuracy: 0.9956 - val_loss: 0.0696 - val_accuracy: 0.9843\n",
            "Epoch 51/100\n",
            "243/243 [==============================] - 11s 45ms/step - loss: 0.0177 - accuracy: 0.9943 - val_loss: 0.0485 - val_accuracy: 0.9887\n",
            "Epoch 52/100\n",
            "243/243 [==============================] - 11s 45ms/step - loss: 0.0146 - accuracy: 0.9950 - val_loss: 0.0770 - val_accuracy: 0.9834\n",
            "Epoch 53/100\n",
            "243/243 [==============================] - 11s 46ms/step - loss: 0.0154 - accuracy: 0.9950 - val_loss: 0.0636 - val_accuracy: 0.9855\n",
            "Epoch 54/100\n",
            "243/243 [==============================] - 11s 46ms/step - loss: 0.0137 - accuracy: 0.9956 - val_loss: 0.0520 - val_accuracy: 0.9868\n",
            "Epoch 55/100\n",
            "243/243 [==============================] - 11s 45ms/step - loss: 0.0145 - accuracy: 0.9954 - val_loss: 0.0640 - val_accuracy: 0.9856\n",
            "Epoch 56/100\n",
            "243/243 [==============================] - 11s 45ms/step - loss: 0.0127 - accuracy: 0.9961 - val_loss: 0.0746 - val_accuracy: 0.9838\n",
            "Epoch 57/100\n",
            "243/243 [==============================] - 11s 45ms/step - loss: 0.0139 - accuracy: 0.9953 - val_loss: 0.0668 - val_accuracy: 0.9853\n",
            "Epoch 58/100\n",
            "243/243 [==============================] - 11s 45ms/step - loss: 0.0120 - accuracy: 0.9967 - val_loss: 0.0585 - val_accuracy: 0.9864\n",
            "Epoch 59/100\n",
            "243/243 [==============================] - 11s 45ms/step - loss: 0.0141 - accuracy: 0.9957 - val_loss: 0.0684 - val_accuracy: 0.9853\n",
            "Epoch 60/100\n",
            "243/243 [==============================] - 11s 45ms/step - loss: 0.0107 - accuracy: 0.9972 - val_loss: 0.0545 - val_accuracy: 0.9867\n",
            "Epoch 61/100\n",
            "243/243 [==============================] - 11s 45ms/step - loss: 0.0130 - accuracy: 0.9959 - val_loss: 0.0575 - val_accuracy: 0.9868\n",
            "Epoch 62/100\n",
            "243/243 [==============================] - 11s 45ms/step - loss: 0.0121 - accuracy: 0.9961 - val_loss: 0.0675 - val_accuracy: 0.9849\n",
            "Epoch 63/100\n",
            "243/243 [==============================] - 11s 45ms/step - loss: 0.0138 - accuracy: 0.9957 - val_loss: 0.0652 - val_accuracy: 0.9860\n",
            "Epoch 64/100\n",
            "243/243 [==============================] - 11s 45ms/step - loss: 0.0112 - accuracy: 0.9966 - val_loss: 0.0627 - val_accuracy: 0.9855\n",
            "Epoch 65/100\n",
            "243/243 [==============================] - 11s 45ms/step - loss: 0.0131 - accuracy: 0.9962 - val_loss: 0.0647 - val_accuracy: 0.9851\n",
            "Epoch 66/100\n",
            "243/243 [==============================] - 11s 45ms/step - loss: 0.0122 - accuracy: 0.9962 - val_loss: 0.0633 - val_accuracy: 0.9866\n",
            "Epoch 67/100\n",
            "243/243 [==============================] - 11s 45ms/step - loss: 0.0108 - accuracy: 0.9967 - val_loss: 0.0677 - val_accuracy: 0.9861\n",
            "Epoch 68/100\n",
            "243/243 [==============================] - 11s 47ms/step - loss: 0.0115 - accuracy: 0.9963 - val_loss: 0.0628 - val_accuracy: 0.9858\n",
            "Epoch 69/100\n",
            "243/243 [==============================] - 11s 46ms/step - loss: 0.0105 - accuracy: 0.9968 - val_loss: 0.0612 - val_accuracy: 0.9858\n",
            "Epoch 70/100\n",
            "243/243 [==============================] - 11s 45ms/step - loss: 0.0106 - accuracy: 0.9963 - val_loss: 0.0613 - val_accuracy: 0.9856\n",
            "Epoch 71/100\n",
            "243/243 [==============================] - 11s 46ms/step - loss: 0.0118 - accuracy: 0.9963 - val_loss: 0.0643 - val_accuracy: 0.9864\n",
            "Epoch 72/100\n",
            "243/243 [==============================] - 11s 45ms/step - loss: 0.0096 - accuracy: 0.9969 - val_loss: 0.0744 - val_accuracy: 0.9845\n",
            "Epoch 73/100\n",
            "243/243 [==============================] - 11s 45ms/step - loss: 0.0115 - accuracy: 0.9963 - val_loss: 0.0666 - val_accuracy: 0.9848\n",
            "Epoch 74/100\n",
            "243/243 [==============================] - 11s 45ms/step - loss: 0.0111 - accuracy: 0.9964 - val_loss: 0.0608 - val_accuracy: 0.9875\n",
            "Epoch 75/100\n",
            "243/243 [==============================] - 11s 45ms/step - loss: 0.0111 - accuracy: 0.9968 - val_loss: 0.0473 - val_accuracy: 0.9887\n",
            "Epoch 76/100\n",
            "243/243 [==============================] - 11s 45ms/step - loss: 0.0098 - accuracy: 0.9970 - val_loss: 0.0714 - val_accuracy: 0.9849\n",
            "Epoch 77/100\n",
            "243/243 [==============================] - 11s 45ms/step - loss: 0.0089 - accuracy: 0.9975 - val_loss: 0.0602 - val_accuracy: 0.9863\n",
            "Epoch 78/100\n",
            "243/243 [==============================] - 11s 45ms/step - loss: 0.0107 - accuracy: 0.9966 - val_loss: 0.0548 - val_accuracy: 0.9874\n",
            "Epoch 79/100\n",
            "243/243 [==============================] - 11s 45ms/step - loss: 0.0080 - accuracy: 0.9978 - val_loss: 0.0588 - val_accuracy: 0.9873\n",
            "Epoch 80/100\n",
            "243/243 [==============================] - 11s 46ms/step - loss: 0.0089 - accuracy: 0.9973 - val_loss: 0.0611 - val_accuracy: 0.9864\n",
            "Epoch 81/100\n",
            "243/243 [==============================] - 11s 45ms/step - loss: 0.0117 - accuracy: 0.9960 - val_loss: 0.0595 - val_accuracy: 0.9869\n",
            "Epoch 82/100\n",
            "243/243 [==============================] - 11s 45ms/step - loss: 0.0106 - accuracy: 0.9964 - val_loss: 0.0634 - val_accuracy: 0.9864\n",
            "Epoch 83/100\n",
            "243/243 [==============================] - 11s 46ms/step - loss: 0.0114 - accuracy: 0.9961 - val_loss: 0.0671 - val_accuracy: 0.9861\n",
            "Epoch 84/100\n",
            "243/243 [==============================] - 11s 45ms/step - loss: 0.0080 - accuracy: 0.9975 - val_loss: 0.0524 - val_accuracy: 0.9886\n",
            "Epoch 85/100\n",
            "243/243 [==============================] - 11s 46ms/step - loss: 0.0078 - accuracy: 0.9976 - val_loss: 0.0498 - val_accuracy: 0.9878\n",
            "Epoch 86/100\n",
            "243/243 [==============================] - 11s 46ms/step - loss: 0.0091 - accuracy: 0.9971 - val_loss: 0.0731 - val_accuracy: 0.9843\n",
            "Epoch 87/100\n",
            "243/243 [==============================] - 11s 46ms/step - loss: 0.0102 - accuracy: 0.9965 - val_loss: 0.0697 - val_accuracy: 0.9845\n",
            "Epoch 88/100\n",
            "243/243 [==============================] - 11s 46ms/step - loss: 0.0071 - accuracy: 0.9978 - val_loss: 0.0600 - val_accuracy: 0.9863\n",
            "Epoch 89/100\n",
            "243/243 [==============================] - 11s 46ms/step - loss: 0.0077 - accuracy: 0.9977 - val_loss: 0.0622 - val_accuracy: 0.9860\n",
            "Epoch 90/100\n",
            "243/243 [==============================] - 12s 47ms/step - loss: 0.0079 - accuracy: 0.9975 - val_loss: 0.0722 - val_accuracy: 0.9858\n",
            "Epoch 91/100\n",
            "243/243 [==============================] - 11s 47ms/step - loss: 0.0070 - accuracy: 0.9978 - val_loss: 0.0555 - val_accuracy: 0.9888\n",
            "Epoch 92/100\n",
            "243/243 [==============================] - 11s 46ms/step - loss: 0.0077 - accuracy: 0.9975 - val_loss: 0.0590 - val_accuracy: 0.9876\n",
            "Epoch 93/100\n",
            "243/243 [==============================] - 11s 46ms/step - loss: 0.0095 - accuracy: 0.9968 - val_loss: 0.0567 - val_accuracy: 0.9870\n",
            "Epoch 94/100\n",
            "243/243 [==============================] - 11s 46ms/step - loss: 0.0077 - accuracy: 0.9974 - val_loss: 0.0566 - val_accuracy: 0.9874\n",
            "Epoch 95/100\n",
            "243/243 [==============================] - 11s 46ms/step - loss: 0.0077 - accuracy: 0.9977 - val_loss: 0.0569 - val_accuracy: 0.9871\n",
            "Epoch 96/100\n",
            "243/243 [==============================] - 11s 46ms/step - loss: 0.0083 - accuracy: 0.9975 - val_loss: 0.0632 - val_accuracy: 0.9864\n",
            "Epoch 97/100\n",
            "243/243 [==============================] - 11s 45ms/step - loss: 0.0086 - accuracy: 0.9971 - val_loss: 0.0803 - val_accuracy: 0.9837\n",
            "Epoch 98/100\n",
            "243/243 [==============================] - 11s 46ms/step - loss: 0.0090 - accuracy: 0.9972 - val_loss: 0.0575 - val_accuracy: 0.9872\n",
            "Epoch 99/100\n",
            "243/243 [==============================] - 11s 46ms/step - loss: 0.0092 - accuracy: 0.9970 - val_loss: 0.0724 - val_accuracy: 0.9852\n",
            "Epoch 100/100\n",
            "243/243 [==============================] - 11s 47ms/step - loss: 0.0079 - accuracy: 0.9975 - val_loss: 0.0637 - val_accuracy: 0.9870\n"
          ],
          "name": "stdout"
        }
      ]
    },
    {
      "cell_type": "code",
      "metadata": {
        "colab": {
          "base_uri": "https://localhost:8080/",
          "height": 573
        },
        "id": "ocJH6QpdaYMu",
        "outputId": "938d24b1-e487-4ee4-fc18-7144ef6a90e0"
      },
      "source": [
        "plt.plot(model_history.history['accuracy'])\n",
        "plt.plot(model_history.history['val_accuracy'])\n",
        "plt.title('Model Accuracy')\n",
        "plt.ylabel('Accuracy')\n",
        "plt.xlabel('Epoch')\n",
        "plt.legend(['Train', 'Validation'], loc='lower right')\n",
        "plt.show()\n",
        "#plt.savefig('accHigh.svg')\n",
        "\n",
        "# # Plot loss\n",
        "plt.plot(model_history.history['loss'])\n",
        "plt.plot(model_history.history['val_loss'])\n",
        "plt.title('Model Loss')\n",
        "plt.ylabel('Loss')\n",
        "plt.xlabel('Epoch')\n",
        "plt.legend(['Train', 'Validation'], loc='upper right')\n",
        "plt.show()\n",
        "#plt.savefig('lossHigh.svg')"
      ],
      "execution_count": 6,
      "outputs": [
        {
          "output_type": "display_data",
          "data": {
            "image/png": "[encoded data removed]",
            "text/plain": [
              "<Figure size 432x288 with 1 Axes>"
            ]
          },
          "metadata": {
            "tags": [],
            "needs_background": "light"
          }
        },
        {
          "output_type": "display_data",
          "data": {
            "image/png": "[encoded data removed]",
            "text/plain": [
              "<Figure size 432x288 with 1 Axes>"
            ]
          },
          "metadata": {
            "tags": [],
            "needs_background": "light"
          }
        }
      ]
    },
    {
      "cell_type": "code",
      "metadata": {
        "id": "DynFvQ0Ta0i-"
      },
      "source": [
        "preds = model.predict(XchTest)"
      ],
      "execution_count": 7,
      "outputs": []
    },
    {
      "cell_type": "code",
      "metadata": {
        "colab": {
          "base_uri": "https://localhost:8080/"
        },
        "id": "o3PagvRNa1YH",
        "outputId": "4927f871-203a-42f4-aac5-fd25aa597db2"
      },
      "source": [
        "print(preds.shape)"
      ],
      "execution_count": 8,
      "outputs": [
        {
          "output_type": "stream",
          "text": [
            "(2519, 45, 6)\n"
          ],
          "name": "stdout"
        }
      ]
    },
    {
      "cell_type": "code",
      "metadata": {
        "id": "jQiIfsJ0a5dv"
      },
      "source": [
        "import matplotlib.pyplot as plt\n",
        "from sklearn.metrics import confusion_matrix\n",
        "import itertools\n",
        "def plot_confusion_matrix(cm, classes,\n",
        "                          normalize=False,\n",
        "                          title='Confusion matrix',\n",
        "                          cmap=plt.cm.Blues):\n",
        "    \"\"\"\n",
        "    This function prints and plots the confusion matrix.\n",
        "    Normalization can be applied by setting `normalize=True`.\n",
        "    \"\"\"\n",
        "    if normalize:\n",
        "        cm = cm.astype('float') / cm.sum(axis=1)[:, np.newaxis]\n",
        "    else:\n",
        "        cm = cm\n",
        "        #print(\"Normalized confusion matrix\")\n",
        "\n",
        "    plt.imshow(cm, interpolation='nearest', cmap=cmap)\n",
        "    plt.title(title)\n",
        "    plt.colorbar()\n",
        "    tick_marks = np.arange(len(classes))\n",
        "    plt.xticks(tick_marks, classes, rotation=45)\n",
        "    plt.yticks(tick_marks, classes)\n",
        "\n",
        "    fmt = '.2f' if normalize else 'd'\n",
        "    thresh = cm.max() / 2.\n",
        "    for i, j in itertools.product(range(cm.shape[0]), range(cm.shape[1])):\n",
        "        plt.text(j, i, format(cm[i, j], fmt),\n",
        "                 horizontalalignment=\"center\",\n",
        "                 color=\"white\" if cm[i, j] > thresh else \"black\")\n",
        "\n",
        "    plt.tight_layout()\n",
        "    plt.ylabel('True label')\n",
        "    plt.xlabel('Predicted label')"
      ],
      "execution_count": 9,
      "outputs": []
    },
    {
      "cell_type": "code",
      "metadata": {
        "id": "rS-DxpBVa6Zm"
      },
      "source": [
        "Yhot_pred = model.predict(XchTest)\n",
        "#convert them to class numbers"
      ],
      "execution_count": 10,
      "outputs": []
    },
    {
      "cell_type": "code",
      "metadata": {
        "colab": {
          "base_uri": "https://localhost:8080/"
        },
        "id": "6-Y_6ySBa8a_",
        "outputId": "db5aecdd-7def-4602-b088-5dcb2b1235ab"
      },
      "source": [
        "Y_pred = np.argmax(preds, axis = 2)\n",
        "Y_test = np.argmax(YhotTest, axis = 2)\n",
        "print(Y_pred.shape)\n",
        "print(Y_test.shape)"
      ],
      "execution_count": 11,
      "outputs": [
        {
          "output_type": "stream",
          "text": [
            "(2519, 45)\n",
            "(2519, 45)\n"
          ],
          "name": "stdout"
        }
      ]
    },
    {
      "cell_type": "code",
      "metadata": {
        "colab": {
          "base_uri": "https://localhost:8080/"
        },
        "id": "XIEoqPxZa_si",
        "outputId": "8eb82b0b-56d8-47d4-ba7c-9ab7bfab2110"
      },
      "source": [
        "ans = 0\n",
        "for i in range(Y_test.shape[0]):    \n",
        "        for j in range(Y_test.shape[1]):\n",
        "            if Y_test[i][j] == Y_pred[i][j]:\n",
        "                ans = ans + 1    \n",
        "print(\"Test Accuracy Framewise is\")\n",
        "#print ans\n",
        "print((ans/float(Y_test.shape[0] * Y_test.shape[1]))*100)"
      ],
      "execution_count": 12,
      "outputs": [
        {
          "output_type": "stream",
          "text": [
            "Test Accuracy Framewise is\n",
            "98.28238719068413\n"
          ],
          "name": "stdout"
        }
      ]
    },
    {
      "cell_type": "code",
      "metadata": {
        "colab": {
          "base_uri": "https://localhost:8080/"
        },
        "id": "CS-9E8FdbBT2",
        "outputId": "903ac2bc-7390-4827-e239-579e9cf9c62e"
      },
      "source": [
        "\n",
        "# use polling of 45 frames to get output for the sequence\n",
        "ans = 0\n",
        "res = []\n",
        "act = []\n",
        "for i in range(Y_test.shape[0]):\n",
        "    resTemp = stats.mode(Y_pred[i])\n",
        "    actTemp = stats.mode(Y_test[i])\n",
        "    res.append(resTemp[0][0])\n",
        "    act.append(actTemp[0][0])\n",
        "    if res[i] == act[i]:\n",
        "        ans = ans + 1\n",
        "    \"\"\"for j in range(Y_test.shape[1]):\n",
        "        if Y_test[i][j] != Y_pred[i][j]:\n",
        "            print Y_pred[i]\n",
        "            break\"\"\"\n",
        "                \n",
        "print(\"Test Accuracy with Polling is\")\n",
        "#print ans\n",
        "print(ans/float(Y_test.shape[0])*100)"
      ],
      "execution_count": 13,
      "outputs": [
        {
          "output_type": "stream",
          "text": [
            "Test Accuracy with Polling is\n",
            "98.76935291782453\n"
          ],
          "name": "stdout"
        }
      ]
    },
    {
      "cell_type": "code",
      "metadata": {
        "id": "krbe-4xUbCp1"
      },
      "source": [
        "Y_pred_flat = []\n",
        "Y_test_flat = []\n",
        "for i in range(Y_test.shape[0]):    \n",
        "        for j in range(Y_test.shape[1]):\n",
        "            Y_pred_flat.append(Y_pred[i][j])\n",
        "            Y_test_flat.append(Y_test[i][j])"
      ],
      "execution_count": 14,
      "outputs": []
    },
    {
      "cell_type": "code",
      "metadata": {
        "colab": {
          "base_uri": "https://localhost:8080/"
        },
        "id": "0P4Ub_OCbEvJ",
        "outputId": "d22ab7aa-95a4-4c39-81bd-c921ce79481f"
      },
      "source": [
        "asanas = {0:'bhujangasan', 1:'padamasan', 2:'shavasan', 3:'tadasan', 4:'trikonasan', 5:'vrikshasan'}\n",
        "#uncomment for framewise\n",
        "Y_asanas = np.array([asanas[a] for a in Y_test_flat])\n",
        "Y_pred_asanas = np.array([asanas[a] for a in Y_pred_flat])\n",
        "#Y_asanas = np.array([asanas[a] for a in act])\n",
        "#Y_pred_asanas = np.array([asanas[a] for a in res])\n",
        "print(Y_asanas)\n",
        "print(Y_pred_asanas)"
      ],
      "execution_count": 15,
      "outputs": [
        {
          "output_type": "stream",
          "text": [
            "['bhujangasan' 'bhujangasan' 'bhujangasan' ... 'vrikshasan' 'vrikshasan'\n",
            " 'vrikshasan']\n",
            "['bhujangasan' 'bhujangasan' 'bhujangasan' ... 'vrikshasan' 'vrikshasan'\n",
            " 'vrikshasan']\n"
          ],
          "name": "stdout"
        }
      ]
    },
    {
      "cell_type": "code",
      "metadata": {
        "colab": {
          "base_uri": "https://localhost:8080/",
          "height": 613
        },
        "id": "1AonLGtpbGQ1",
        "outputId": "ca024911-698b-4de7-da33-0b98c0ed814c"
      },
      "source": [
        "plt.rcParams.update({'font.size': 8})\n",
        "class_names =[]\n",
        "for k in range(6):\n",
        "    class_names.append(asanas[k])\n",
        "cnf_matrix = confusion_matrix(Y_asanas, Y_pred_asanas)\n",
        "np.set_printoptions(precision=2)\n",
        "\n",
        "# Plot non-normalized confusion matrix\n",
        "plt.figure()\n",
        "plot_confusion_matrix(cnf_matrix, classes=class_names,\n",
        "                      title='Confusion matrix, without normalization')\n",
        "\n",
        "plt.savefig('confHighFrame.svg')\n",
        "# Plot normalized confusion matrix\n",
        "plt.figure()\n",
        "plot_confusion_matrix(cnf_matrix, classes=class_names, normalize=True,\n",
        "                      title='Normalized confusion matrix')\n",
        "plt.savefig('nconfHighFrame.svg')"
      ],
      "execution_count": 16,
      "outputs": [
        {
          "output_type": "display_data",
          "data": {
            "image/png": "[encoded data removed]",
            "text/plain": [
              "<Figure size 432x288 with 2 Axes>"
            ]
          },
          "metadata": {
            "tags": [],
            "needs_background": "light"
          }
        },
        {
          "output_type": "display_data",
          "data": {
            "image/png": "[encoded data removed]",
            "text/plain": [
              "<Figure size 432x288 with 2 Axes>"
            ]
          },
          "metadata": {
            "tags": [],
            "needs_background": "light"
          }
        }
      ]
    }
  ]
}