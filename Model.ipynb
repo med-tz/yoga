{
  "nbformat": 4,
  "nbformat_minor": 0,
  "metadata": {
    "colab": {
      "name": "Model.ipynb",
      "provenance": [],
      "authorship_tag": "ABX9TyOlP736xttYbXmUGI9F00jx",
      "include_colab_link": true
    },
    "kernelspec": {
      "name": "python3",
      "display_name": "Python 3"
    },
    "language_info": {
      "name": "python"
    }
  },
  "cells": [
    {
      "cell_type": "markdown",
      "metadata": {
        "id": "view-in-github",
        "colab_type": "text"
      },
      "source": [
        "<a href=\"https://colab.research.google.com/github/med-tz/yoga/blob/main/Model.ipynb\" target=\"_parent\"><img src=\"https://colab.research.google.com/assets/colab-badge.svg\" alt=\"Open In Colab\"/></a>"
      ]
    },
    {
      "cell_type": "code",
      "metadata": {
        "colab": {
          "base_uri": "https://localhost:8080/"
        },
        "id": "7pGqZY6cYDBK",
        "outputId": "4bcebf24-b0d2-4658-9279-c401d1dd9aae"
      },
      "source": [
        "%matplotlib inline\n",
        "import matplotlib.pyplot as plt\n",
        "import keras\n",
        "from keras.models import Sequential\n",
        "from keras.layers import Dense, Dropout, Flatten, BatchNormalization\n",
        "from keras.layers.pooling import GlobalAveragePooling1D\n",
        "from keras.layers import Conv1D, MaxPooling1D, LSTM\n",
        "from keras.layers.wrappers import TimeDistributed\n",
        "from keras.optimizers import Adam\n",
        "import numpy as np\n",
        "from sklearn.metrics import confusion_matrix\n",
        "import itertools\n",
        "from keras.callbacks import ModelCheckpoint\n",
        "from scipy import stats\n",
        "from google.colab import drive\n",
        "drive.mount('/gdrive')"
      ],
      "execution_count": 1,
      "outputs": [
        {
          "output_type": "stream",
          "text": [
            "Mounted at /gdrive\n"
          ],
          "name": "stdout"
        }
      ]
    },
    {
      "cell_type": "code",
      "metadata": {
        "id": "4EZSE6yIYDs_"
      },
      "source": [
        "XchTrain = np.load(\"/gdrive/MyDrive/trainX.npy\")\n",
        "YTrain = np.load(\"/gdrive/MyDrive/trainY.npy\")\n",
        "XchVal = np.load(\"/gdrive/MyDrive/valX.npy\")\n",
        "YVal = np.load(\"/gdrive/MyDrive/valY.npy\")\n",
        "XchTest = np.load(\"/gdrive/MyDrive/testX.npy\")\n",
        "YTest = np.load(\"/gdrive/MyDrive/testY.npy\")\n",
        "# making test and train labels one hot\n",
        "YintTrain = np.int64(YTrain)\n",
        "YhotTrain = np.zeros((YTrain.shape[0], 6))\n",
        "YhotTrain[np.arange(YTrain.shape[0]), YintTrain] = 1\n",
        "\n",
        "YintTest = np.int64(YTest)\n",
        "YhotTest = np.zeros((YTest.shape[0], 6))\n",
        "YhotTest[np.arange(YTest.shape[0]), YintTest] = 1\n",
        "\n",
        "YintVal = np.int64(YVal)\n",
        "YhotVal = np.zeros((YVal.shape[0], 6))\n",
        "YhotVal[np.arange(YVal.shape[0]), YintVal] = 1\n",
        "\n",
        "YhotTest = np.repeat(YhotTest[:, :, np.newaxis], 45, axis=2)\n",
        "YhotTest = np.swapaxes(YhotTest, 1, 2)\n",
        "\n",
        "YhotVal = np.repeat(YhotVal[:, :, np.newaxis], 45, axis=2)\n",
        "YhotVal = np.swapaxes(YhotVal, 1, 2)\n",
        "\n",
        "YhotTrain = np.repeat(YhotTrain[:, :, np.newaxis], 45, axis=2)\n",
        "YhotTrain = np.swapaxes(YhotTrain, 1, 2)"
      ],
      "execution_count": 2,
      "outputs": []
    },
    {
      "cell_type": "code",
      "metadata": {
        "id": "D43KvKTKfX8S",
        "colab": {
          "base_uri": "https://localhost:8080/"
        },
        "outputId": "c69ace1f-4992-4e1d-d45f-54a7a81c316f"
      },
      "source": [
        "print(XchTrain.shape)\n",
        "print(YhotTrain.shape)\n",
        "print(XchVal.shape)\n",
        "print(YhotVal.shape)\n",
        "print(XchTest.shape)\n",
        "print(YhotTest.shape)"
      ],
      "execution_count": 4,
      "outputs": [
        {
          "output_type": "stream",
          "text": [
            "(7754, 45, 18, 2)\n",
            "(7754, 45, 6)\n",
            "(2529, 45, 18, 2)\n",
            "(2529, 45, 6)\n",
            "(2519, 45, 18, 2)\n",
            "(2519, 45, 6)\n"
          ],
          "name": "stdout"
        }
      ]
    },
    {
      "cell_type": "code",
      "metadata": {
        "id": "bjPKmjQ4Y37G"
      },
      "source": [
        "def get_model():\n",
        "    model = Sequential([\n",
        "        TimeDistributed(Conv1D(16,3, activation='relu', padding = \"same\"),input_shape=XchTrain.shape[1:]),\n",
        "        TimeDistributed(BatchNormalization()),\n",
        "        TimeDistributed(Dropout(0.5)),\n",
        "        BatchNormalization(),\n",
        "        TimeDistributed(Flatten()),  \n",
        "        LSTM(20,unit_forget_bias = 0.5, return_sequences = True),\n",
        "        TimeDistributed(Dense(6,activation='softmax'))        \n",
        "    ])\n",
        "    adam = Adam(lr=0.0001)\n",
        "    model.compile(loss='categorical_crossentropy',\n",
        "              optimizer= adam,\n",
        "              metrics=['accuracy'])\n",
        "    return model"
      ],
      "execution_count": 5,
      "outputs": []
    },
    {
      "cell_type": "code",
      "metadata": {
        "id": "scmq5AXEfX8X",
        "colab": {
          "base_uri": "https://localhost:8080/"
        },
        "outputId": "ee501af5-b283-43c2-d19d-999e002221fb"
      },
      "source": [
        "model = get_model()\n",
        "filepath= \"/gdrive/MyDrive/sabri/\" +\"val1\" + \"-{epoch:02d}-{val_acc:.4f}.hdf5\"\n",
        "checkpoint = ModelCheckpoint(filepath, monitor='val_acc', verbose=1, save_best_only=True, mode='max')\n",
        "callbacks_list = [checkpoint]\n",
        "model_history = model.fit(XchTrain, YhotTrain, epochs=100, batch_size=32, validation_data = (XchVal, YhotVal))"
      ],
      "execution_count": 22,
      "outputs": [
        {
          "output_type": "stream",
          "text": [
            "/usr/local/lib/python3.7/dist-packages/tensorflow/python/keras/optimizer_v2/optimizer_v2.py:375: UserWarning: The `lr` argument is deprecated, use `learning_rate` instead.\n",
            "  \"The `lr` argument is deprecated, use `learning_rate` instead.\")\n"
          ],
          "name": "stderr"
        },
        {
          "output_type": "stream",
          "text": [
            "Epoch 1/100\n",
            "243/243 [==============================] - 16s 55ms/step - loss: 1.3905 - accuracy: 0.5162 - val_loss: 0.5386 - val_accuracy: 0.8964\n",
            "Epoch 2/100\n",
            "243/243 [==============================] - 12s 50ms/step - loss: 0.5329 - accuracy: 0.8845 - val_loss: 0.2818 - val_accuracy: 0.9721\n",
            "Epoch 3/100\n",
            "243/243 [==============================] - 12s 50ms/step - loss: 0.3062 - accuracy: 0.9414 - val_loss: 0.1997 - val_accuracy: 0.9786\n",
            "Epoch 4/100\n",
            "243/243 [==============================] - 12s 50ms/step - loss: 0.2271 - accuracy: 0.9508 - val_loss: 0.1726 - val_accuracy: 0.9782\n",
            "Epoch 5/100\n",
            "243/243 [==============================] - 12s 51ms/step - loss: 0.1800 - accuracy: 0.9623 - val_loss: 0.1317 - val_accuracy: 0.9787\n",
            "Epoch 6/100\n",
            "243/243 [==============================] - 12s 51ms/step - loss: 0.1474 - accuracy: 0.9682 - val_loss: 0.1170 - val_accuracy: 0.9802\n",
            "Epoch 7/100\n",
            "243/243 [==============================] - 12s 51ms/step - loss: 0.1263 - accuracy: 0.9720 - val_loss: 0.1111 - val_accuracy: 0.9799\n",
            "Epoch 8/100\n",
            "243/243 [==============================] - 12s 51ms/step - loss: 0.1075 - accuracy: 0.9771 - val_loss: 0.1066 - val_accuracy: 0.9798\n",
            "Epoch 9/100\n",
            "243/243 [==============================] - 12s 51ms/step - loss: 0.0978 - accuracy: 0.9772 - val_loss: 0.1019 - val_accuracy: 0.9804\n",
            "Epoch 10/100\n",
            "243/243 [==============================] - 12s 51ms/step - loss: 0.0846 - accuracy: 0.9806 - val_loss: 0.0977 - val_accuracy: 0.9812\n",
            "Epoch 11/100\n",
            "243/243 [==============================] - 12s 51ms/step - loss: 0.0855 - accuracy: 0.9792 - val_loss: 0.0949 - val_accuracy: 0.9807\n",
            "Epoch 12/100\n",
            "243/243 [==============================] - 12s 51ms/step - loss: 0.0732 - accuracy: 0.9828 - val_loss: 0.1348 - val_accuracy: 0.9623\n",
            "Epoch 13/100\n",
            "243/243 [==============================] - 12s 50ms/step - loss: 0.0671 - accuracy: 0.9837 - val_loss: 0.1424 - val_accuracy: 0.9627\n",
            "Epoch 14/100\n",
            "243/243 [==============================] - 12s 51ms/step - loss: 0.0628 - accuracy: 0.9847 - val_loss: 0.0823 - val_accuracy: 0.9812\n",
            "Epoch 15/100\n",
            "243/243 [==============================] - 12s 50ms/step - loss: 0.0612 - accuracy: 0.9842 - val_loss: 0.0802 - val_accuracy: 0.9817\n",
            "Epoch 16/100\n",
            "243/243 [==============================] - 12s 50ms/step - loss: 0.0576 - accuracy: 0.9849 - val_loss: 0.0768 - val_accuracy: 0.9819\n",
            "Epoch 17/100\n",
            "243/243 [==============================] - 12s 51ms/step - loss: 0.0523 - accuracy: 0.9864 - val_loss: 0.0875 - val_accuracy: 0.9806\n",
            "Epoch 18/100\n",
            "243/243 [==============================] - 12s 50ms/step - loss: 0.0543 - accuracy: 0.9861 - val_loss: 0.0938 - val_accuracy: 0.9765\n",
            "Epoch 19/100\n",
            "243/243 [==============================] - 12s 51ms/step - loss: 0.0475 - accuracy: 0.9867 - val_loss: 0.0964 - val_accuracy: 0.9760\n",
            "Epoch 20/100\n",
            "243/243 [==============================] - 12s 51ms/step - loss: 0.0453 - accuracy: 0.9882 - val_loss: 0.0806 - val_accuracy: 0.9813\n",
            "Epoch 21/100\n",
            "243/243 [==============================] - 12s 51ms/step - loss: 0.0451 - accuracy: 0.9879 - val_loss: 0.0713 - val_accuracy: 0.9830\n",
            "Epoch 22/100\n",
            "243/243 [==============================] - 12s 51ms/step - loss: 0.0458 - accuracy: 0.9871 - val_loss: 0.0791 - val_accuracy: 0.9820\n",
            "Epoch 23/100\n",
            "243/243 [==============================] - 12s 50ms/step - loss: 0.0409 - accuracy: 0.9891 - val_loss: 0.1742 - val_accuracy: 0.9487\n",
            "Epoch 24/100\n",
            "243/243 [==============================] - 12s 51ms/step - loss: 0.0413 - accuracy: 0.9884 - val_loss: 0.0729 - val_accuracy: 0.9819\n",
            "Epoch 25/100\n",
            "243/243 [==============================] - 12s 50ms/step - loss: 0.0392 - accuracy: 0.9894 - val_loss: 0.0719 - val_accuracy: 0.9814\n",
            "Epoch 26/100\n",
            "243/243 [==============================] - 12s 51ms/step - loss: 0.0382 - accuracy: 0.9891 - val_loss: 0.0715 - val_accuracy: 0.9821\n",
            "Epoch 27/100\n",
            "243/243 [==============================] - 12s 51ms/step - loss: 0.0409 - accuracy: 0.9881 - val_loss: 0.0868 - val_accuracy: 0.9794\n",
            "Epoch 28/100\n",
            "243/243 [==============================] - 12s 51ms/step - loss: 0.0344 - accuracy: 0.9907 - val_loss: 0.0727 - val_accuracy: 0.9819\n",
            "Epoch 29/100\n",
            "243/243 [==============================] - 12s 51ms/step - loss: 0.0341 - accuracy: 0.9895 - val_loss: 0.1146 - val_accuracy: 0.9694\n",
            "Epoch 30/100\n",
            "243/243 [==============================] - 12s 51ms/step - loss: 0.0339 - accuracy: 0.9896 - val_loss: 0.1731 - val_accuracy: 0.9528\n",
            "Epoch 31/100\n",
            "243/243 [==============================] - 12s 51ms/step - loss: 0.0326 - accuracy: 0.9900 - val_loss: 0.0753 - val_accuracy: 0.9792\n",
            "Epoch 32/100\n",
            "243/243 [==============================] - 12s 51ms/step - loss: 0.0301 - accuracy: 0.9909 - val_loss: 0.1441 - val_accuracy: 0.9591\n",
            "Epoch 33/100\n",
            "243/243 [==============================] - 12s 51ms/step - loss: 0.0301 - accuracy: 0.9906 - val_loss: 0.0996 - val_accuracy: 0.9725\n",
            "Epoch 34/100\n",
            "243/243 [==============================] - 12s 51ms/step - loss: 0.0294 - accuracy: 0.9913 - val_loss: 0.0970 - val_accuracy: 0.9735\n",
            "Epoch 35/100\n",
            "243/243 [==============================] - 12s 51ms/step - loss: 0.0269 - accuracy: 0.9922 - val_loss: 0.0673 - val_accuracy: 0.9821\n",
            "Epoch 36/100\n",
            "243/243 [==============================] - 12s 51ms/step - loss: 0.0279 - accuracy: 0.9918 - val_loss: 0.0733 - val_accuracy: 0.9827\n",
            "Epoch 37/100\n",
            "243/243 [==============================] - 12s 51ms/step - loss: 0.0289 - accuracy: 0.9911 - val_loss: 0.0623 - val_accuracy: 0.9834\n",
            "Epoch 38/100\n",
            "243/243 [==============================] - 12s 50ms/step - loss: 0.0267 - accuracy: 0.9919 - val_loss: 0.0625 - val_accuracy: 0.9835\n",
            "Epoch 39/100\n",
            "243/243 [==============================] - 13s 51ms/step - loss: 0.0273 - accuracy: 0.9917 - val_loss: 0.0762 - val_accuracy: 0.9823\n",
            "Epoch 40/100\n",
            "243/243 [==============================] - 12s 51ms/step - loss: 0.0246 - accuracy: 0.9923 - val_loss: 0.0748 - val_accuracy: 0.9822\n",
            "Epoch 41/100\n",
            "243/243 [==============================] - 13s 52ms/step - loss: 0.0221 - accuracy: 0.9940 - val_loss: 0.0579 - val_accuracy: 0.9841\n",
            "Epoch 42/100\n",
            "243/243 [==============================] - 13s 52ms/step - loss: 0.0240 - accuracy: 0.9929 - val_loss: 0.0833 - val_accuracy: 0.9808\n",
            "Epoch 43/100\n",
            "243/243 [==============================] - 13s 52ms/step - loss: 0.0245 - accuracy: 0.9920 - val_loss: 0.0721 - val_accuracy: 0.9826\n",
            "Epoch 44/100\n",
            "243/243 [==============================] - 13s 52ms/step - loss: 0.0225 - accuracy: 0.9929 - val_loss: 0.0753 - val_accuracy: 0.9836\n",
            "Epoch 45/100\n",
            "243/243 [==============================] - 13s 52ms/step - loss: 0.0226 - accuracy: 0.9932 - val_loss: 0.0527 - val_accuracy: 0.9854\n",
            "Epoch 46/100\n",
            "243/243 [==============================] - 12s 51ms/step - loss: 0.0225 - accuracy: 0.9926 - val_loss: 0.0692 - val_accuracy: 0.9831\n",
            "Epoch 47/100\n",
            "243/243 [==============================] - 13s 51ms/step - loss: 0.0205 - accuracy: 0.9936 - val_loss: 0.0603 - val_accuracy: 0.9851\n",
            "Epoch 48/100\n",
            "243/243 [==============================] - 13s 53ms/step - loss: 0.0232 - accuracy: 0.9926 - val_loss: 0.0603 - val_accuracy: 0.9853\n",
            "Epoch 49/100\n",
            "243/243 [==============================] - 13s 52ms/step - loss: 0.0203 - accuracy: 0.9936 - val_loss: 0.2349 - val_accuracy: 0.9505\n",
            "Epoch 50/100\n",
            "243/243 [==============================] - 13s 52ms/step - loss: 0.0191 - accuracy: 0.9942 - val_loss: 0.0600 - val_accuracy: 0.9850\n",
            "Epoch 51/100\n",
            "243/243 [==============================] - 13s 52ms/step - loss: 0.0210 - accuracy: 0.9928 - val_loss: 0.0721 - val_accuracy: 0.9830\n",
            "Epoch 52/100\n",
            "243/243 [==============================] - 13s 52ms/step - loss: 0.0241 - accuracy: 0.9923 - val_loss: 0.0676 - val_accuracy: 0.9842\n",
            "Epoch 53/100\n",
            "243/243 [==============================] - 13s 52ms/step - loss: 0.0213 - accuracy: 0.9938 - val_loss: 0.0579 - val_accuracy: 0.9858\n",
            "Epoch 54/100\n",
            "243/243 [==============================] - 12s 51ms/step - loss: 0.0204 - accuracy: 0.9936 - val_loss: 0.0663 - val_accuracy: 0.9851\n",
            "Epoch 55/100\n",
            "243/243 [==============================] - 12s 51ms/step - loss: 0.0190 - accuracy: 0.9945 - val_loss: 0.0571 - val_accuracy: 0.9864\n",
            "Epoch 56/100\n",
            "243/243 [==============================] - 13s 52ms/step - loss: 0.0200 - accuracy: 0.9939 - val_loss: 0.0694 - val_accuracy: 0.9842\n",
            "Epoch 57/100\n",
            "243/243 [==============================] - 13s 52ms/step - loss: 0.0166 - accuracy: 0.9946 - val_loss: 0.0524 - val_accuracy: 0.9877\n",
            "Epoch 58/100\n",
            "243/243 [==============================] - 12s 51ms/step - loss: 0.0208 - accuracy: 0.9932 - val_loss: 0.0486 - val_accuracy: 0.9887\n",
            "Epoch 59/100\n",
            "243/243 [==============================] - 12s 51ms/step - loss: 0.0177 - accuracy: 0.9945 - val_loss: 0.0644 - val_accuracy: 0.9849\n",
            "Epoch 60/100\n",
            "243/243 [==============================] - 12s 51ms/step - loss: 0.0180 - accuracy: 0.9947 - val_loss: 0.0640 - val_accuracy: 0.9848\n",
            "Epoch 61/100\n",
            "243/243 [==============================] - 13s 51ms/step - loss: 0.0175 - accuracy: 0.9945 - val_loss: 0.0593 - val_accuracy: 0.9851\n",
            "Epoch 62/100\n",
            "243/243 [==============================] - 12s 51ms/step - loss: 0.0179 - accuracy: 0.9943 - val_loss: 0.0620 - val_accuracy: 0.9850\n",
            "Epoch 63/100\n",
            "243/243 [==============================] - 12s 51ms/step - loss: 0.0207 - accuracy: 0.9931 - val_loss: 0.0514 - val_accuracy: 0.9877\n",
            "Epoch 64/100\n",
            "243/243 [==============================] - 12s 51ms/step - loss: 0.0164 - accuracy: 0.9943 - val_loss: 0.0469 - val_accuracy: 0.9893\n",
            "Epoch 65/100\n",
            "243/243 [==============================] - 12s 51ms/step - loss: 0.0169 - accuracy: 0.9947 - val_loss: 0.0483 - val_accuracy: 0.9892\n",
            "Epoch 66/100\n",
            "243/243 [==============================] - 12s 51ms/step - loss: 0.0171 - accuracy: 0.9946 - val_loss: 0.0599 - val_accuracy: 0.9860\n",
            "Epoch 67/100\n",
            "243/243 [==============================] - 12s 51ms/step - loss: 0.0166 - accuracy: 0.9947 - val_loss: 0.0568 - val_accuracy: 0.9867\n",
            "Epoch 68/100\n",
            "243/243 [==============================] - 12s 51ms/step - loss: 0.0160 - accuracy: 0.9946 - val_loss: 0.0564 - val_accuracy: 0.9871\n",
            "Epoch 69/100\n",
            "243/243 [==============================] - 13s 51ms/step - loss: 0.0137 - accuracy: 0.9958 - val_loss: 0.0632 - val_accuracy: 0.9860\n",
            "Epoch 70/100\n",
            "243/243 [==============================] - 13s 52ms/step - loss: 0.0153 - accuracy: 0.9949 - val_loss: 0.0725 - val_accuracy: 0.9843\n",
            "Epoch 71/100\n",
            "243/243 [==============================] - 12s 51ms/step - loss: 0.0156 - accuracy: 0.9951 - val_loss: 0.0561 - val_accuracy: 0.9879\n",
            "Epoch 72/100\n",
            "243/243 [==============================] - 12s 51ms/step - loss: 0.0166 - accuracy: 0.9947 - val_loss: 0.0685 - val_accuracy: 0.9845\n",
            "Epoch 73/100\n",
            "243/243 [==============================] - 12s 51ms/step - loss: 0.0150 - accuracy: 0.9954 - val_loss: 0.0642 - val_accuracy: 0.9856\n",
            "Epoch 74/100\n",
            "243/243 [==============================] - 12s 51ms/step - loss: 0.0167 - accuracy: 0.9946 - val_loss: 0.0707 - val_accuracy: 0.9853\n",
            "Epoch 75/100\n",
            "243/243 [==============================] - 12s 51ms/step - loss: 0.0138 - accuracy: 0.9959 - val_loss: 0.0543 - val_accuracy: 0.9877\n",
            "Epoch 76/100\n",
            "243/243 [==============================] - 12s 51ms/step - loss: 0.0129 - accuracy: 0.9961 - val_loss: 0.0564 - val_accuracy: 0.9871\n",
            "Epoch 77/100\n",
            "243/243 [==============================] - 12s 51ms/step - loss: 0.0142 - accuracy: 0.9953 - val_loss: 0.0582 - val_accuracy: 0.9874\n",
            "Epoch 78/100\n",
            "243/243 [==============================] - 12s 51ms/step - loss: 0.0131 - accuracy: 0.9958 - val_loss: 0.0767 - val_accuracy: 0.9831\n",
            "Epoch 79/100\n",
            "243/243 [==============================] - 12s 51ms/step - loss: 0.0140 - accuracy: 0.9959 - val_loss: 0.0487 - val_accuracy: 0.9891\n",
            "Epoch 80/100\n",
            "243/243 [==============================] - 12s 51ms/step - loss: 0.0139 - accuracy: 0.9954 - val_loss: 0.0552 - val_accuracy: 0.9880\n",
            "Epoch 81/100\n",
            "243/243 [==============================] - 12s 50ms/step - loss: 0.0119 - accuracy: 0.9959 - val_loss: 0.0525 - val_accuracy: 0.9892\n",
            "Epoch 82/100\n",
            "243/243 [==============================] - 12s 51ms/step - loss: 0.0149 - accuracy: 0.9952 - val_loss: 0.0589 - val_accuracy: 0.9870\n",
            "Epoch 83/100\n",
            "243/243 [==============================] - 12s 51ms/step - loss: 0.0149 - accuracy: 0.9953 - val_loss: 0.0967 - val_accuracy: 0.9786\n",
            "Epoch 84/100\n",
            "243/243 [==============================] - 12s 51ms/step - loss: 0.0148 - accuracy: 0.9962 - val_loss: 0.0510 - val_accuracy: 0.9892\n",
            "Epoch 85/100\n",
            "243/243 [==============================] - 12s 51ms/step - loss: 0.0131 - accuracy: 0.9960 - val_loss: 0.0724 - val_accuracy: 0.9841\n",
            "Epoch 86/100\n",
            "243/243 [==============================] - 12s 51ms/step - loss: 0.0117 - accuracy: 0.9966 - val_loss: 0.0514 - val_accuracy: 0.9890\n",
            "Epoch 87/100\n",
            "243/243 [==============================] - 12s 51ms/step - loss: 0.0135 - accuracy: 0.9958 - val_loss: 0.0581 - val_accuracy: 0.9876\n",
            "Epoch 88/100\n",
            "243/243 [==============================] - 12s 51ms/step - loss: 0.0115 - accuracy: 0.9965 - val_loss: 0.0520 - val_accuracy: 0.9891\n",
            "Epoch 89/100\n",
            "243/243 [==============================] - 12s 51ms/step - loss: 0.0117 - accuracy: 0.9965 - val_loss: 0.0622 - val_accuracy: 0.9869\n",
            "Epoch 90/100\n",
            "243/243 [==============================] - 13s 51ms/step - loss: 0.0120 - accuracy: 0.9961 - val_loss: 0.0514 - val_accuracy: 0.9895\n",
            "Epoch 91/100\n",
            "243/243 [==============================] - 12s 51ms/step - loss: 0.0107 - accuracy: 0.9966 - val_loss: 0.0559 - val_accuracy: 0.9883\n",
            "Epoch 92/100\n",
            "243/243 [==============================] - 12s 51ms/step - loss: 0.0110 - accuracy: 0.9965 - val_loss: 0.0681 - val_accuracy: 0.9863\n",
            "Epoch 93/100\n",
            "243/243 [==============================] - 13s 52ms/step - loss: 0.0124 - accuracy: 0.9960 - val_loss: 0.0595 - val_accuracy: 0.9877\n",
            "Epoch 94/100\n",
            "243/243 [==============================] - 13s 52ms/step - loss: 0.0122 - accuracy: 0.9964 - val_loss: 0.0569 - val_accuracy: 0.9877\n",
            "Epoch 95/100\n",
            "243/243 [==============================] - 13s 52ms/step - loss: 0.0130 - accuracy: 0.9956 - val_loss: 0.0566 - val_accuracy: 0.9883\n",
            "Epoch 96/100\n",
            "243/243 [==============================] - 12s 51ms/step - loss: 0.0125 - accuracy: 0.9958 - val_loss: 0.0562 - val_accuracy: 0.9885\n",
            "Epoch 97/100\n",
            "243/243 [==============================] - 12s 51ms/step - loss: 0.0120 - accuracy: 0.9963 - val_loss: 0.0703 - val_accuracy: 0.9860\n",
            "Epoch 98/100\n",
            "243/243 [==============================] - 12s 51ms/step - loss: 0.0102 - accuracy: 0.9969 - val_loss: 0.0453 - val_accuracy: 0.9906\n",
            "Epoch 99/100\n",
            "243/243 [==============================] - 13s 52ms/step - loss: 0.0106 - accuracy: 0.9967 - val_loss: 0.0510 - val_accuracy: 0.9901\n",
            "Epoch 100/100\n",
            "243/243 [==============================] - 13s 52ms/step - loss: 0.0107 - accuracy: 0.9965 - val_loss: 0.0534 - val_accuracy: 0.9890\n"
          ],
          "name": "stdout"
        }
      ]
    },
    {
      "cell_type": "code",
      "metadata": {
        "colab": {
          "base_uri": "https://localhost:8080/",
          "height": 564
        },
        "id": "ocJH6QpdaYMu",
        "outputId": "c601a148-4144-43fc-97af-301c7be35e6a"
      },
      "source": [
        "plt.plot(model_history.history['accuracy'])\n",
        "plt.plot(model_history.history['val_accuracy'])\n",
        "plt.title('Model Accuracy')\n",
        "plt.ylabel('Accuracy')\n",
        "plt.xlabel('Epoch')\n",
        "plt.legend(['Train', 'Validation'], loc='lower right')\n",
        "plt.show()\n",
        "#plt.savefig('accHigh.svg')\n",
        "\n",
        "# # Plot loss\n",
        "plt.plot(model_history.history['loss'])\n",
        "plt.plot(model_history.history['val_loss'])\n",
        "plt.title('Model Loss')\n",
        "plt.ylabel('Loss')\n",
        "plt.xlabel('Epoch')\n",
        "plt.legend(['Train', 'Validation'], loc='upper right')\n",
        "plt.show()\n",
        "#plt.savefig('lossHigh.svg')"
      ],
      "execution_count": 27,
      "outputs": [
        {
          "output_type": "display_data",
          "data": {
            "image/png": "[encoded data removed]",
            "text/plain": [
              "<Figure size 432x288 with 1 Axes>"
            ]
          },
          "metadata": {
            "tags": [],
            "needs_background": "light"
          }
        },
        {
          "output_type": "display_data",
          "data": {
            "image/png": "[encoded data removed]",
            "text/plain": [
              "<Figure size 432x288 with 1 Axes>"
            ]
          },
          "metadata": {
            "tags": [],
            "needs_background": "light"
          }
        }
      ]
    },
    {
      "cell_type": "code",
      "metadata": {
        "id": "DynFvQ0Ta0i-"
      },
      "source": [
        "preds = model.predict(XchTest)"
      ],
      "execution_count": 28,
      "outputs": []
    },
    {
      "cell_type": "code",
      "metadata": {
        "colab": {
          "base_uri": "https://localhost:8080/"
        },
        "id": "o3PagvRNa1YH",
        "outputId": "2d541ecb-cae1-4c10-b02f-36371ebe9910"
      },
      "source": [
        "print(preds.shape)"
      ],
      "execution_count": 29,
      "outputs": [
        {
          "output_type": "stream",
          "text": [
            "(2519, 45, 6)\n"
          ],
          "name": "stdout"
        }
      ]
    },
    {
      "cell_type": "code",
      "metadata": {
        "id": "jQiIfsJ0a5dv"
      },
      "source": [
        "import matplotlib.pyplot as plt\n",
        "from sklearn.metrics import confusion_matrix\n",
        "import itertools\n",
        "def plot_confusion_matrix(cm, classes,\n",
        "                          normalize=False,\n",
        "                          title='Confusion matrix',\n",
        "                          cmap=plt.cm.Blues):\n",
        "    \"\"\"\n",
        "    This function prints and plots the confusion matrix.\n",
        "    Normalization can be applied by setting `normalize=True`.\n",
        "    \"\"\"\n",
        "    if normalize:\n",
        "        cm = cm.astype('float') / cm.sum(axis=1)[:, np.newaxis]\n",
        "    else:\n",
        "        cm = cm\n",
        "        #print(\"Normalized confusion matrix\")\n",
        "\n",
        "    plt.imshow(cm, interpolation='nearest', cmap=cmap)\n",
        "    plt.title(title)\n",
        "    plt.colorbar()\n",
        "    tick_marks = np.arange(len(classes))\n",
        "    plt.xticks(tick_marks, classes, rotation=45)\n",
        "    plt.yticks(tick_marks, classes)\n",
        "\n",
        "    fmt = '.2f' if normalize else 'd'\n",
        "    thresh = cm.max() / 2.\n",
        "    for i, j in itertools.product(range(cm.shape[0]), range(cm.shape[1])):\n",
        "        plt.text(j, i, format(cm[i, j], fmt),\n",
        "                 horizontalalignment=\"center\",\n",
        "                 color=\"white\" if cm[i, j] > thresh else \"black\")\n",
        "\n",
        "    plt.tight_layout()\n",
        "    plt.ylabel('True label')\n",
        "    plt.xlabel('Predicted label')"
      ],
      "execution_count": 30,
      "outputs": []
    },
    {
      "cell_type": "code",
      "metadata": {
        "id": "rS-DxpBVa6Zm"
      },
      "source": [
        "Yhot_pred = model.predict(XchTest)\n",
        "#convert them to class numbers"
      ],
      "execution_count": 31,
      "outputs": []
    },
    {
      "cell_type": "code",
      "metadata": {
        "colab": {
          "base_uri": "https://localhost:8080/"
        },
        "id": "6-Y_6ySBa8a_",
        "outputId": "f377977e-2066-446c-8b1f-cd8ee048338b"
      },
      "source": [
        "Y_pred = np.argmax(preds, axis = 2)\n",
        "Y_test = np.argmax(YhotTest, axis = 2)\n",
        "print(Y_pred.shape)\n",
        "print(Y_test.shape)"
      ],
      "execution_count": 32,
      "outputs": [
        {
          "output_type": "stream",
          "text": [
            "(2519, 45)\n",
            "(2519, 45)\n"
          ],
          "name": "stdout"
        }
      ]
    },
    {
      "cell_type": "code",
      "metadata": {
        "colab": {
          "base_uri": "https://localhost:8080/"
        },
        "id": "XIEoqPxZa_si",
        "outputId": "f18e89c2-bace-4ca6-e35d-34e27845b192"
      },
      "source": [
        "ans = 0\n",
        "for i in range(Y_test.shape[0]):    \n",
        "        for j in range(Y_test.shape[1]):\n",
        "            if Y_test[i][j] == Y_pred[i][j]:\n",
        "                ans = ans + 1    \n",
        "print(\"Test Accuracy Framewise is\")\n",
        "#print ans\n",
        "print((ans/float(Y_test.shape[0] * Y_test.shape[1]))*100)"
      ],
      "execution_count": 33,
      "outputs": [
        {
          "output_type": "stream",
          "text": [
            "Test Accuracy Framewise is\n",
            "97.970976136915\n"
          ],
          "name": "stdout"
        }
      ]
    },
    {
      "cell_type": "code",
      "metadata": {
        "colab": {
          "base_uri": "https://localhost:8080/"
        },
        "id": "CS-9E8FdbBT2",
        "outputId": "42fb3b35-d21b-4e06-d6bc-a7ec32c344d8"
      },
      "source": [
        "\n",
        "# use polling of 45 frames to get output for the sequence\n",
        "ans = 0\n",
        "res = []\n",
        "act = []\n",
        "for i in range(Y_test.shape[0]):\n",
        "    resTemp = stats.mode(Y_pred[i])\n",
        "    actTemp = stats.mode(Y_test[i])\n",
        "    res.append(resTemp[0][0])\n",
        "    act.append(actTemp[0][0])\n",
        "    if res[i] == act[i]:\n",
        "        ans = ans + 1\n",
        "    \"\"\"for j in range(Y_test.shape[1]):\n",
        "        if Y_test[i][j] != Y_pred[i][j]:\n",
        "            print Y_pred[i]\n",
        "            break\"\"\"\n",
        "                \n",
        "print(\"Test Accuracy with Polling is\")\n",
        "#print ans\n",
        "print(ans/float(Y_test.shape[0])*100)"
      ],
      "execution_count": 34,
      "outputs": [
        {
          "output_type": "stream",
          "text": [
            "Test Accuracy with Polling is\n",
            "98.2135768161969\n"
          ],
          "name": "stdout"
        }
      ]
    },
    {
      "cell_type": "code",
      "metadata": {
        "id": "krbe-4xUbCp1"
      },
      "source": [
        "Y_pred_flat = []\n",
        "Y_test_flat = []\n",
        "for i in range(Y_test.shape[0]):    \n",
        "        for j in range(Y_test.shape[1]):\n",
        "            Y_pred_flat.append(Y_pred[i][j])\n",
        "            Y_test_flat.append(Y_test[i][j])"
      ],
      "execution_count": 35,
      "outputs": []
    },
    {
      "cell_type": "code",
      "metadata": {
        "colab": {
          "base_uri": "https://localhost:8080/"
        },
        "id": "0P4Ub_OCbEvJ",
        "outputId": "c4c3208d-a2b9-4ad7-9dc3-7d1d8d9ba783"
      },
      "source": [
        "asanas = {0:'bhujangasan', 1:'padamasan', 2:'shavasan', 3:'tadasan', 4:'trikonasan', 5:'vrikshasan'}\n",
        "#uncomment for framewise\n",
        "Y_asanas = np.array([asanas[a] for a in Y_test_flat])\n",
        "Y_pred_asanas = np.array([asanas[a] for a in Y_pred_flat])\n",
        "#Y_asanas = np.array([asanas[a] for a in act])\n",
        "#Y_pred_asanas = np.array([asanas[a] for a in res])\n",
        "print(Y_asanas)\n",
        "print(Y_pred_asanas)"
      ],
      "execution_count": 36,
      "outputs": [
        {
          "output_type": "stream",
          "text": [
            "['bhujangasan' 'bhujangasan' 'bhujangasan' ... 'vrikshasan' 'vrikshasan'\n",
            " 'vrikshasan']\n",
            "['bhujangasan' 'bhujangasan' 'bhujangasan' ... 'vrikshasan' 'vrikshasan'\n",
            " 'vrikshasan']\n"
          ],
          "name": "stdout"
        }
      ]
    },
    {
      "cell_type": "code",
      "metadata": {
        "colab": {
          "base_uri": "https://localhost:8080/",
          "height": 613
        },
        "id": "1AonLGtpbGQ1",
        "outputId": "270f1d96-3a73-41f4-d7dd-8834afbb22be"
      },
      "source": [
        "plt.rcParams.update({'font.size': 8})\n",
        "class_names =[]\n",
        "for k in range(6):\n",
        "    class_names.append(asanas[k])\n",
        "cnf_matrix = confusion_matrix(Y_asanas, Y_pred_asanas)\n",
        "np.set_printoptions(precision=2)\n",
        "\n",
        "# Plot non-normalized confusion matrix\n",
        "plt.figure()\n",
        "plot_confusion_matrix(cnf_matrix, classes=class_names,\n",
        "                      title='Confusion matrix, without normalization')\n",
        "\n",
        "plt.savefig('confHighFrame.svg')\n",
        "# Plot normalized confusion matrix\n",
        "plt.figure()\n",
        "plot_confusion_matrix(cnf_matrix, classes=class_names, normalize=True,\n",
        "                      title='Normalized confusion matrix')\n",
        "plt.savefig('nconfHighFrame.svg')"
      ],
      "execution_count": 37,
      "outputs": [
        {
          "output_type": "display_data",
          "data": {
            "image/png": "[encoded data removed]",
            "text/plain": [
              "<Figure size 432x288 with 2 Axes>"
            ]
          },
          "metadata": {
            "tags": [],
            "needs_background": "light"
          }
        },
        {
          "output_type": "display_data",
          "data": {
            "image/png": "[encoded data removed]",
            "text/plain": [
              "<Figure size 432x288 with 2 Axes>"
            ]
          },
          "metadata": {
            "tags": [],
            "needs_background": "light"
          }
        }
      ]
    }
  ]
}