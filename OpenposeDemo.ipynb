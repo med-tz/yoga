{
  "nbformat": 4,
  "nbformat_minor": 0,
  "metadata": {
    "colab": {
      "name": "Openpose1.7.0.ipynb",
      "provenance": [],
      "collapsed_sections": []
    },
    "kernelspec": {
      "name": "python3",
      "display_name": "Python 3"
    },
    "accelerator": "GPU"
  },
  "cells": [
    {
      "cell_type": "markdown",
      "metadata": {
        "id": "0hLhuliurW6c"
      },
      "source": [
        "# Openpose 1.7.0 Demo"
      ]
    },
    {
      "cell_type": "code",
      "metadata": {
        "id": "hp8rTOJ30J-b"
      },
      "source": [
        "# First, change the runtime type to \"GPU\".\n",
        "# Confirm runtime to GPU\n",
        "! nvcc --version\n",
        "! nvidia-smi"
      ],
      "execution_count": null,
      "outputs": []
    },
    {
      "cell_type": "code",
      "metadata": {
        "id": "h_ddqkdp0euj"
      },
      "source": [
        "# Openpose version tag\n",
        "ver_openpose = \"v1.7.0\"\n",
        "! echo $ver_openpose"
      ],
      "execution_count": null,
      "outputs": []
    },
    {
      "cell_type": "code",
      "metadata": {
        "id": "WtlM7y630hKK"
      },
      "source": [
        "# If CMake is old, Openpose build fails, so download the latest version\n",
        "# https://developercommunity.visualstudio.com/content/problem/354325/cmake-project-cannot-detect-cuda-10.html\n",
        "! cmake --version"
      ],
      "execution_count": null,
      "outputs": []
    },
    {
      "cell_type": "code",
      "metadata": {
        "id": "vjElcN2T0unQ"
      },
      "source": [
        "# Rebuild the latest CMake as of 2021.03.03 (about 15 minutes)\n",
        "! wget -c \"https://github.com/Kitware/CMake/releases/download/v3.19.6/cmake-3.19.6.tar.gz\"\n",
        "! tar xf cmake-3.19.6.tar.gz\n",
        "! cd cmake-3.19.6 && ./configure && make && sudo make install"
      ],
      "execution_count": null,
      "outputs": []
    },
    {
      "cell_type": "code",
      "metadata": {
        "id": "nBqcGCVZ1OKs"
      },
      "source": [
        "# Install library\n",
        "\n",
        "# Basic\n",
        "! sudo apt-get --assume-yes update\n",
        "! sudo apt-get --assume-yes install build-essential\n",
        "# OpenCV\n",
        "! sudo apt-get --assume-yes install libopencv-dev\n",
        "# General dependencies\n",
        "! sudo apt-get --assume-yes install libatlas-base-dev libprotobuf-dev libleveldb-dev libsnappy-dev libhdf5-serial-dev protobuf-compiler\n",
        "! sudo apt-get --assume-yes install --no-install-recommends libboost-all-dev\n",
        "# Remaining dependencies, 14.04\n",
        "! sudo apt-get --assume-yes install libgflags-dev libgoogle-glog-dev liblmdb-dev\n",
        "# Python3 libs\n",
        "! sudo apt-get --assume-yes install python3-setuptools python3-dev build-essential\n",
        "! sudo apt-get --assume-yes install python3-pip\n",
        "! sudo -H pip3 install --upgrade numpy protobuf opencv-python\n",
        "# OpenCL Generic\n",
        "! sudo apt-get --assume-yes install opencl-headers ocl-icd-opencl-dev\n",
        "! sudo apt-get --assume-yes install libviennacl-dev"
      ],
      "execution_count": null,
      "outputs": []
    },
    {
      "cell_type": "code",
      "metadata": {
        "id": "AxvRJiaK1QXt"
      },
      "source": [
        "# Clone Openpose\n",
        "! git clone  --depth 1 -b \"$ver_openpose\" https://github.com/CMU-Perceptual-Computing-Lab/openpose.git "
      ],
      "execution_count": null,
      "outputs": []
    },
    {
      "cell_type": "code",
      "metadata": {
        "id": "B7vM17cQ1v3p"
      },
      "source": [
        "\n",
        "# Create build directory\n",
        "! cd openpose && mkdir build && cd build"
      ],
      "execution_count": null,
      "outputs": []
    },
    {
      "cell_type": "code",
      "metadata": {
        "id": "bhCJ4zsf2AMa"
      },
      "source": [
        "# https://github.com/CMU-Perceptual-Computing-Lab/openpose/blob/master/doc/installation.md#cmake-command-line-configuration-ubuntu-only\n",
        "\n",
        "# Scenario 1 - Caffe not installed and OpenCV installed using apt-get\n",
        "! cd openpose/build && cmake .. \n",
        "\n",
        "\n",
        "# If you want to download the COCO model as well, execute the following command. (Please change \"# ! cd\" part to \"! cd\".)\n",
        "# ! cd openpose/build && cmake .. -D DOWNLOAD_BODY_COCO_MODEL=ON\n",
        "\n",
        "\n",
        "# If you want to download the MPI model as well, execute the following command.\n",
        "# ! cd openpose/build && cmake .. -D DOWNLOAD_BODY_MPI_MODEL=ON"
      ],
      "execution_count": null,
      "outputs": []
    },
    {
      "cell_type": "code",
      "metadata": {
        "id": "L4Zf78976MKN"
      },
      "source": [
        "\n",
        "# Openpose Building\n",
        "! cd openpose/build && make -j`nproc`\n",
        "# output\n",
        "! cd openpose && mkdir output"
      ],
      "execution_count": null,
      "outputs": []
    },
    {
      "cell_type": "code",
      "metadata": {
        "id": "i_MzrC8EHHdv"
      },
      "source": [
        "from google.colab import drive\n",
        "import os\n",
        "import timeit\n",
        "import json\n",
        "\n",
        "# mount Google Drive\n",
        "# When you mount it, you will be asked for permission, so allow it, copy the key, paste(Ctrl+V) it in the input field on the Colab side, and press Enter.\n",
        "drive.mount('/gdrive')\n",
        "\n",
        "\n",
        "# Google Drive root directory\n",
        "root_path = \"/gdrive/My Drive/\"\n",
        "testdir = \"/gdrive/My Drive/ft/\"\n",
        "results = []\n",
        "for f in os.listdir(testdir):\n",
        "    if f.endswith('.mp4'):\n",
        "        results.append(f)\n",
        "\n",
        "for i in range(len(results)):\n",
        "    file_path2=\"/gdrive/My Drive/ft1/\"+results[i][:-4]\n",
        "    file_path = \"/gdrive/My Drive/ft/\"+results[i]\n",
        "    file_path1=\"/gdrive/My Drive/ft1/\"+results[i][:-4]+\".avi\"\n",
        "    \n",
        "    ! cd openpose && ./build/examples/openpose/openpose.bin --video \"$file_path\"  --write_json \"$file_path2\"  --display 0 --write_video \"$file_path1\""
      ],
      "execution_count": null,
      "outputs": []
    },
    {
      "cell_type": "code",
      "metadata": {
        "id": "Nh9f-GTcKJ3u"
      },
      "source": [
        "\n",
        "# If you also want to analyze the hands together, add \"--hand\"\n",
        "\n",
        "# The result can be confirmed on the browser by re-executing the code two level above.\n",
        "! cd openpose && ./build/examples/openpose/openpose.bin --video \"$root_path/$file_path\" --display 0  --write_video \"$root_path/openpose.avi\" --hand"
      ],
      "execution_count": null,
      "outputs": []
    },
    {
      "cell_type": "code",
      "metadata": {
        "id": "1czsW7anKZbg"
      },
      "source": [
        "# If you also want to analyze the face, add \"--face\"\n",
        "# The result can be confirmed on the browser by re-executing the code three level above.\n",
        "! cd openpose && ./build/examples/openpose/openpose.bin --video \"$root_path/$file_path\" --display 0  --write_video \"$root_path/openpose.avi\" --face"
      ],
      "execution_count": null,
      "outputs": []
    }
  ]
}